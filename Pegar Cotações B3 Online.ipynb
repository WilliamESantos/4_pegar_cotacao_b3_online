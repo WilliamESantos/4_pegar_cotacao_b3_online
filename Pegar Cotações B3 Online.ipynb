{
 "cells": [
  {
   "cell_type": "markdown",
   "id": "fa0671ca",
   "metadata": {},
   "source": [
    "# <font color='darkblue'>Pegando Cotações na B3 Online Utilizando o Python\n",
    "### <font color='darkblue'>Instalar o Programa MetaTrader\n",
    "https://www.metatrader5.com/pt/download\n",
    "\n",
    "### <font color='darkblue'>Biblioteca do Meta Trader\n",
    "https://www.mql5.com/pt/docs/python_metatrader5"
   ]
  },
  {
   "cell_type": "markdown",
   "id": "3894b3fd",
   "metadata": {},
   "source": [
    "### <font color='darkblue'> Documentação MetaTreder5 e Numpy\n",
    "https://pypi.org/project/MetaTrader5/\n",
    "\n",
    "https://pypi.org/project/numpy/"
   ]
  },
  {
   "cell_type": "markdown",
   "id": "1abf0898",
   "metadata": {},
   "source": [
    "### <font color='darkblue'>Link da Aula, Para Acompanhamento    \n",
    "https://www.youtube.com/watch?v=prIyEFGCRd8&list=PLQkgHGk8rux6L42KC9l6R25AD7iimkLi_&index=13"
   ]
  },
  {
   "cell_type": "code",
   "execution_count": 13,
   "id": "1620763e",
   "metadata": {},
   "outputs": [],
   "source": [
    "# Instalar as bibliotecas abaixo:\n",
    "#!pip install MetaTrader5\n",
    "\n",
    "# Se der algum problema, desistala o Nunpy \n",
    "# !pip uninstall numpy\n",
    "\n",
    "# E instala a versão atualizada do Numpy\n",
    "# !pip install --upgrade numpy\n",
    "\n",
    "# Para olhar se a biblioteca já está instalada, deve-se ir no Prompet do Anaconda e digitar: pip freeze"
   ]
  },
  {
   "cell_type": "code",
   "execution_count": 1,
   "id": "d6c37b5a",
   "metadata": {},
   "outputs": [],
   "source": [
    "# Importar as bibliotecas\n",
    "\n",
    "# Esse módulo faz o recebimento rápido de informações de negociação através de comunicação entre processos\n",
    "import MetaTrader5 as mt5\n",
    "\n",
    "# Esse módulo é incluído com Python manipula data e hora\n",
    "import time"
   ]
  },
  {
   "cell_type": "markdown",
   "id": "69363956",
   "metadata": {},
   "source": [
    "### <font color='darkblue'>Abrindo o Meta Trader "
   ]
  },
  {
   "cell_type": "code",
   "execution_count": 2,
   "id": "d9707525",
   "metadata": {},
   "outputs": [
    {
     "data": {
      "text/plain": [
       "True"
      ]
     },
     "execution_count": 2,
     "metadata": {},
     "output_type": "execute_result"
    }
   ],
   "source": [
    "mt5.initialize()"
   ]
  },
  {
   "cell_type": "markdown",
   "id": "bc1a1400",
   "metadata": {},
   "source": [
    "### <font color='darkblue'>Pegando os Símbolos Disponíveis"
   ]
  },
  {
   "cell_type": "code",
   "execution_count": 3,
   "id": "8c28ff71",
   "metadata": {},
   "outputs": [
    {
     "data": {
      "text/plain": [
       "249"
      ]
     },
     "execution_count": 3,
     "metadata": {},
     "output_type": "execute_result"
    }
   ],
   "source": [
    "simbolos = mt5.symbols_get()\n",
    "len(simbolos)"
   ]
  },
  {
   "cell_type": "code",
   "execution_count": 4,
   "id": "174f2367",
   "metadata": {},
   "outputs": [
    {
     "name": "stdout",
     "output_type": "stream",
     "text": [
      "EURUSD\n",
      "GBPUSD\n",
      "USDJPY\n",
      "USDCHF\n",
      "AUDUSD\n",
      "NZDUSD\n",
      "USDCAD\n",
      "EURGBP\n",
      "EURJPY\n",
      "EURCHF\n",
      "EURAUD\n",
      "EURNZD\n",
      "EURCAD\n",
      "GBPJPY\n",
      "GBPCHF\n",
      "GBPAUD\n",
      "GBPNZD\n",
      "GBPCAD\n",
      "CHFJPY\n",
      "AUDJPY\n",
      "AUDCHF\n",
      "AUDNZD\n",
      "AUDCAD\n",
      "NZDJPY\n",
      "CADCHF\n",
      "CADJPY\n",
      "XAGUSD\n",
      "XAUUSD\n",
      "NZDCAD\n",
      "NZDCHF\n",
      "AUS200\n",
      "UK100\n",
      "FRA40\n",
      "EUSTX50\n",
      "JPN225\n",
      "ESP35\n",
      "XBRUSD\n",
      "XTIUSD\n",
      "US30\n",
      "NAS100\n",
      "SPX500\n",
      "EURHUF\n",
      "EURNOK\n",
      "EURPLN\n",
      "EURSEK\n",
      "EURTRY\n",
      "USDDKK\n",
      "USDCZK\n",
      "USDMXN\n",
      "USDHUF\n",
      "USDNOK\n",
      "USDPLN\n",
      "USDSEK\n",
      "EURHKD\n",
      "USDSGD\n",
      "SGDJPY\n",
      "USDHKD\n",
      "USDCNH\n",
      "USDTRY\n",
      "BTCUSD\n",
      "ETHUSD\n",
      "LTCUSD\n",
      "XRPUSD\n",
      "BCHUSD\n",
      "XNGUSD\n",
      "EURMXN\n",
      "GBPMXN\n",
      "USDZAR\n",
      "EURZAR\n",
      "GBPZAR\n",
      "ZARJPY\n",
      "AAVEUSD\n",
      "ADAUSD\n",
      "ALGOUSD\n",
      "ATOMUSD\n",
      "AVAXUSD\n",
      "AXSUSD\n",
      "BNBUSD\n",
      "DASHUSD\n",
      "DOGEUSD\n",
      "DOTUSD\n",
      "FILUSD\n",
      "FTMUSD\n",
      "GRTUSD\n",
      "ICPUSD\n",
      "IOTAUSD\n",
      "LINKUSD\n",
      "LRCUSD\n",
      "MANAUSD\n",
      "MATICUSD\n",
      "NEARUSD\n",
      "SOLUSD\n",
      "UNIUSD\n",
      "ZECUSD\n",
      "ETCUSD\n",
      "GER40\n",
      "AAPL.NAS\n",
      "WLMR.SGX\n",
      "AZN.LSE\n",
      "ABBV.NYSE\n",
      "ABNB.NAS\n",
      "ABT.NYSE\n",
      "ACN.NYSE\n",
      "ADBE.NAS\n",
      "AMD.NAS\n",
      "AMZN.NAS\n",
      "AVGO.NAS\n",
      "AXP.NYSE\n",
      "BA.NYSE\n",
      "BABA.NYSE\n",
      "BAC.NYSE\n",
      "BKNG.NAS\n",
      "BLK.NYSE\n",
      "BMY.NYSE\n",
      "BX.NYSE\n",
      "CAT.NYSE\n",
      "CMCSA.NAS\n",
      "COP.NYSE\n",
      "COST.NAS\n",
      "CRM.NYSE\n",
      "CSCO.NAS\n",
      "CVS.NYSE\n",
      "CVX.NYSE\n",
      "DHR.NYSE\n",
      "DIS.NYSE\n",
      "GE.NYSE\n",
      "GOOGL.NAS\n",
      "GS.NYSE\n",
      "HD.NYSE\n",
      "HMC.NYSE\n",
      "HON.NAS\n",
      "IBM.NYSE\n",
      "INTC.NAS\n",
      "INTU.NAS\n",
      "ISRG.NAS\n",
      "JNJ.NYSE\n",
      "JPM.NYSE\n",
      "KO.NYSE\n",
      "LIN.NYSE\n",
      "LLY.NYSE\n",
      "LMT.NYSE\n",
      "MA.NYSE\n",
      "MCD.NYSE\n",
      "MDLZ.NAS\n",
      "META.NAS\n",
      "MMM.NYSE\n",
      "MRK.NYSE\n",
      "MS.NYSE\n",
      "MSFT.NAS\n",
      "NEE.NYSE\n",
      "NFLX.NAS\n",
      "NKE.NYSE\n",
      "NOW.NYSE\n",
      "NVDA.NAS\n",
      "ORCL.NYSE\n",
      "PEP.NAS\n",
      "PFE.NYSE\n",
      "PG.NYSE\n",
      "PM.NYSE\n",
      "PYPL.NAS\n",
      "QCOM.NAS\n",
      "RTX.NYSE\n",
      "SAP.NYSE\n",
      "SBUX.NAS\n",
      "SHOP.NYSE\n",
      "SONY.NYSE\n",
      "T.NYSE\n",
      "TMO.NYSE\n",
      "TMUS.NAS\n",
      "TSLA.NAS\n",
      "TXN.NAS\n",
      "UNH.NYSE\n",
      "UNP.NYSE\n",
      "UPS.NYSE\n",
      "V.NYSE\n",
      "VZ.NYSE\n",
      "WFC.NYSE\n",
      "WMT.NYSE\n",
      "XOM.NYSE\n",
      "JD.NAS\n",
      "LI.NAS\n",
      "TCEHY.OTC\n",
      "BHP.ASX\n",
      "CBA.ASX\n",
      "CSL.ASX\n",
      "NAB.ASX\n",
      "WES.ASX\n",
      "DAII.TSE\n",
      "DKI.TSE\n",
      "HIT.TSE\n",
      "KEE.TSE\n",
      "MUR.TSE\n",
      "NID.TSE\n",
      "OL.TSE\n",
      "SVN.TSE\n",
      "TKY.TSE\n",
      "TM.TSE\n",
      "TMH.TSE\n",
      "BARC.LSE\n",
      "BATS.LSE\n",
      "HSBA.LSE\n",
      "LSEG.LSE\n",
      "SHEL.LSE\n",
      "ULVR.LSE\n",
      "VOD.LSE\n",
      "AI.EPA\n",
      "AIR.EPA\n",
      "BNP.EPA\n",
      "MC.EPA\n",
      "OR.EPA\n",
      "RMS.EPA\n",
      "TTE.EPA\n",
      "ADS.XE\n",
      "ALV.XE\n",
      "BAYN.FWB\n",
      "BEI.XE\n",
      "BMW.XE\n",
      "DTE.FWB\n",
      "DTG.FWB\n",
      "MBG.XE\n",
      "MRK.XE\n",
      "SIE.XE\n",
      "VNA.XE\n",
      "CNHI.MIL\n",
      "ENEL.MIL\n",
      "ENI.MIL\n",
      "ISP.MIL\n",
      "RACE.MIL\n",
      "STLA.MIL\n",
      "UCG.MIL\n",
      "BBVA.BM\n",
      "CABK.BM\n",
      "ITX.BM\n",
      "SAN.BM\n",
      "ASML.EAS\n",
      "HEIA.EAS\n",
      "NESTE.OMXH\n",
      "NOKIA.OMXH\n",
      "VOLVA.SOMX\n",
      "CPTL.SGX\n",
      "HK.SGX\n",
      "JAR.SGX\n",
      "SGX.SGX\n",
      "SIAIR.SGX\n",
      "VOW3.XE\n",
      "TRXUSD\n",
      "NFLX.Daily\n",
      "NVDA.Daily\n",
      "TSLA.Daily\n"
     ]
    }
   ],
   "source": [
    "for ticker in simbolos:\n",
    "    print(ticker.name)"
   ]
  },
  {
   "cell_type": "markdown",
   "id": "1092757b",
   "metadata": {},
   "source": [
    "### <font color='darkblue'>Selecionando Símbolos\n",
    "    "
   ]
  },
  {
   "cell_type": "code",
   "execution_count": 5,
   "id": "dd02ab31",
   "metadata": {},
   "outputs": [
    {
     "data": {
      "text/plain": [
       "True"
      ]
     },
     "execution_count": 5,
     "metadata": {},
     "output_type": "execute_result"
    }
   ],
   "source": [
    "mt5.symbol_select(\"USDMXN\")"
   ]
  },
  {
   "cell_type": "markdown",
   "id": "bd176894",
   "metadata": {},
   "source": [
    "### <font color='darkblue'>Pegando Cotações, Escolhendo o Ativo"
   ]
  },
  {
   "cell_type": "code",
   "execution_count": 6,
   "id": "fb693b93",
   "metadata": {},
   "outputs": [
    {
     "name": "stdout",
     "output_type": "stream",
     "text": [
      "Tick(time=1697846397, bid=18.2309, ask=18.2422, last=0.0, volume=0, time_msc=1697846397216, flags=6, volume_real=0.0)\n"
     ]
    }
   ],
   "source": [
    "tick = mt5.symbol_info_tick(\"USDMXN\")\n",
    "print(tick)"
   ]
  },
  {
   "cell_type": "markdown",
   "id": "be6e9408",
   "metadata": {},
   "source": [
    "### <font color='darkblue'>Definindo o Tempo do Retorno das Cotações (Durante - 10) Segundos"
   ]
  },
  {
   "cell_type": "code",
   "execution_count": 12,
   "id": "1e035520",
   "metadata": {},
   "outputs": [
    {
     "name": "stdout",
     "output_type": "stream",
     "text": [
      "O fechamento é 0.0\n",
      "Valor de compra: 18.2422\n",
      "Valor de venda: 18.2309\n",
      "Volume: 0\n",
      "----------------------------\n",
      "O fechamento é 0.0\n",
      "Valor de compra: 18.2422\n",
      "Valor de venda: 18.2309\n",
      "Volume: 0\n",
      "----------------------------\n",
      "O fechamento é 0.0\n",
      "Valor de compra: 18.2422\n",
      "Valor de venda: 18.2309\n",
      "Volume: 0\n",
      "----------------------------\n",
      "O fechamento é 0.0\n",
      "Valor de compra: 18.2422\n",
      "Valor de venda: 18.2309\n",
      "Volume: 0\n",
      "----------------------------\n",
      "O fechamento é 0.0\n",
      "Valor de compra: 18.2422\n",
      "Valor de venda: 18.2309\n",
      "Volume: 0\n",
      "----------------------------\n",
      "O fechamento é 0.0\n",
      "Valor de compra: 18.2422\n",
      "Valor de venda: 18.2309\n",
      "Volume: 0\n",
      "----------------------------\n",
      "O fechamento é 0.0\n",
      "Valor de compra: 18.2422\n",
      "Valor de venda: 18.2309\n",
      "Volume: 0\n",
      "----------------------------\n",
      "O fechamento é 0.0\n",
      "Valor de compra: 18.2422\n",
      "Valor de venda: 18.2309\n",
      "Volume: 0\n",
      "----------------------------\n",
      "O fechamento é 0.0\n",
      "Valor de compra: 18.2422\n",
      "Valor de venda: 18.2309\n",
      "Volume: 0\n",
      "----------------------------\n",
      "O fechamento é 0.0\n",
      "Valor de compra: 18.2422\n",
      "Valor de venda: 18.2309\n",
      "Volume: 0\n",
      "----------------------------\n"
     ]
    }
   ],
   "source": [
    "# Definindo o tempo do retorno das cotações (Durante - 10) segundos\n",
    "tempo = time.time() + 10\n",
    "\n",
    "# Se quiser pegar continuamente é só colocar:\n",
    "# while True:\n",
    "\n",
    "while time.time() < tempo:\n",
    "    \n",
    "    # O Código abaixo volta a cada (1) segundo de intervalo volta a informação\n",
    "    time.sleep(1)\n",
    "    tick = mt5.symbol_info_tick(\"USDMXN\")\n",
    "    print(f\"O fechamento é {tick.last}\")\n",
    "    print(f\"Valor de compra: {tick.ask}\")\n",
    "    print(f\"Valor de venda: {tick.bid}\")\n",
    "    print(f\"Volume: {tick.volume}\")\n",
    "    print(\"----------------------------\")"
   ]
  },
  {
   "cell_type": "markdown",
   "id": "a49ff5ab",
   "metadata": {},
   "source": [
    "###### <font color='Red'> Projeto (21/10/2023): Pegando Cotações da B3 - William E. Santos. "
   ]
  }
 ],
 "metadata": {
  "kernelspec": {
   "display_name": "Python 3 (ipykernel)",
   "language": "python",
   "name": "python3"
  },
  "language_info": {
   "codemirror_mode": {
    "name": "ipython",
    "version": 3
   },
   "file_extension": ".py",
   "mimetype": "text/x-python",
   "name": "python",
   "nbconvert_exporter": "python",
   "pygments_lexer": "ipython3",
   "version": "3.9.12"
  }
 },
 "nbformat": 4,
 "nbformat_minor": 5
}
